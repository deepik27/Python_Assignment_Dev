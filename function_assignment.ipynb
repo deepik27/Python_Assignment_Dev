{
 "cells": [
  {
   "cell_type": "code",
   "execution_count": 9,
   "metadata": {},
   "outputs": [
    {
     "ename": "SyntaxError",
     "evalue": "invalid syntax (<ipython-input-9-edd4b0aa8781>, line 11)",
     "output_type": "error",
     "traceback": [
      "\u001b[1;36m  File \u001b[1;32m\"<ipython-input-9-edd4b0aa8781>\"\u001b[1;36m, line \u001b[1;32m11\u001b[0m\n\u001b[1;33m    def subtraction():\u001b[0m\n\u001b[1;37m      ^\u001b[0m\n\u001b[1;31mSyntaxError\u001b[0m\u001b[1;31m:\u001b[0m invalid syntax\n"
     ]
    }
   ],
   "source": [
    "num1 = int(input(\"Enter the number one value:\"))\n",
    "num2 = int(input(\"Enter the number two value:\"))\n",
    "print(\"Operations has to done, 1:Add, 2:Sub, 3:mul, 4:Div\")\n",
    "num3 = (input(\"Enter the Which number you want to operation\")\n",
    "\n",
    "#def addition():\n",
    "    #if(num3==1):\n",
    "     #res_add = num1+num2\n",
    "     #print(\"Addition Result\",res_add)\n",
    "\n",
    "def subtraction():\n",
    "    if(num3==2):\n",
    "     res_sub = num1-num2\n",
    "     print(\"Subtraction Result,\"res_sub)\n",
    "\n",
    "def multiplication():\n",
    "    if(num3==3):\n",
    "     res_mul = num1*num2\n",
    "     print(\"multiplication result\",res_mul)\n",
    "\n",
    "def division():\n",
    "    if(num3==4):\n",
    "     res_div = num1/num2\n",
    "     print(\"division result\"res_div)\n",
    "        "
   ]
  },
  {
   "cell_type": "code",
   "execution_count": 8,
   "metadata": {},
   "outputs": [
    {
     "name": "stdout",
     "output_type": "stream",
     "text": [
      "Enter the number one value:5\n",
      "Enter the number two value:45\n",
      "50\n"
     ]
    }
   ],
   "source": [
    "num1 = int(input(\"Enter the number one value:\"))\n",
    "num2 = int(input(\"Enter the number two value:\"))\n",
    "def addition():\n",
    "    res_add = num1+num2\n",
    "    print(res_add)\n",
    "    \n",
    "addition()"
   ]
  },
  {
   "cell_type": "code",
   "execution_count": null,
   "metadata": {},
   "outputs": [],
   "source": []
  },
  {
   "cell_type": "code",
   "execution_count": null,
   "metadata": {},
   "outputs": [],
   "source": []
  }
 ],
 "metadata": {
  "kernelspec": {
   "display_name": "Python 3",
   "language": "python",
   "name": "python3"
  },
  "language_info": {
   "codemirror_mode": {
    "name": "ipython",
    "version": 3
   },
   "file_extension": ".py",
   "mimetype": "text/x-python",
   "name": "python",
   "nbconvert_exporter": "python",
   "pygments_lexer": "ipython3",
   "version": "3.7.6"
  }
 },
 "nbformat": 4,
 "nbformat_minor": 4
}
