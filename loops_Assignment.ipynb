{
 "cells": [
  {
   "cell_type": "code",
   "execution_count": null,
   "metadata": {},
   "outputs": [],
   "source": [
    "#LOOPS \n",
    "\n",
    "\n"
   ]
  },
  {
   "cell_type": "code",
   "execution_count": 2,
   "metadata": {},
   "outputs": [
    {
     "name": "stdout",
     "output_type": "stream",
     "text": [
      "10\n",
      "9\n",
      "8\n",
      "7\n",
      "6\n",
      "5\n",
      "4\n",
      "3\n",
      "2\n",
      "1\n"
     ]
    }
   ],
   "source": [
    "###Assignment \n",
    "#using while loop print numbers from 10 to 1\n",
    "\n",
    "count = 10\n",
    "while(count>0):\n",
    "    print(count)\n",
    "    count = count - 1\n",
    "\n",
    "\n"
   ]
  },
  {
   "cell_type": "code",
   "execution_count": 4,
   "metadata": {},
   "outputs": [
    {
     "name": "stdout",
     "output_type": "stream",
     "text": [
      "Model\n",
      "Brand\n",
      "hhs\n",
      "dkfd\n"
     ]
    }
   ],
   "source": [
    "#try using for loop to loop over tuples,sets and dictionaries\n",
    "    #Trying with dictionaries\n",
    "\n",
    "dict1 = {\n",
    "    \"Model\": \"I5\",\n",
    "    \"Brand\": \"Samsung\",\n",
    "    \"hhs\": \"hjhdj\",\n",
    "    \"dkfd\":\"fddf\"\n",
    "    \n",
    "}\n",
    "for item in dict1:\n",
    "    print(item)"
   ]
  },
  {
   "cell_type": "code",
   "execution_count": 15,
   "metadata": {},
   "outputs": [
    {
     "name": "stdout",
     "output_type": "stream",
     "text": [
      "1\n",
      "2\n",
      "3\n",
      "4\n",
      "4.1\n",
      "True\n"
     ]
    }
   ],
   "source": [
    "#Trying with tuples\n",
    "tuple1 = (1, 2, 3, 4, 4.1, True)\n",
    "tuple1\n",
    "for item in tuple1:\n",
    "    print(item)"
   ]
  },
  {
   "cell_type": "code",
   "execution_count": 36,
   "metadata": {},
   "outputs": [
    {
     "name": "stdout",
     "output_type": "stream",
     "text": [
      "False\n",
      "True\n",
      "2\n",
      "3\n",
      "4.4\n",
      "python\n"
     ]
    }
   ],
   "source": [
    "#trying with sets1\n",
    "set1 = {2,3,4.4,True,\"python\", False}\n",
    "set1\n",
    "for item in set1:\n",
    "    print(item)"
   ]
  },
  {
   "cell_type": "code",
   "execution_count": 4,
   "metadata": {},
   "outputs": [
    {
     "name": "stdout",
     "output_type": "stream",
     "text": [
      "1\n",
      "2\n",
      "3\n",
      "1.5\n",
      "string\n",
      "False\n"
     ]
    }
   ],
   "source": [
    "#trying the for loop with List\n",
    "\n",
    "list1 = [1,2,3,1.5,'string',False]\n",
    "for item in list1:\n",
    "    print(item)\n"
   ]
  },
  {
   "cell_type": "code",
   "execution_count": 40,
   "metadata": {},
   "outputs": [
    {
     "name": "stdout",
     "output_type": "stream",
     "text": [
      "2\n",
      "3\n",
      "4.4\n",
      "True\n",
      "python\n",
      "False\n"
     ]
    }
   ],
   "source": [
    "#tuple using while loop\n",
    "tuple1 = (2, 3, 4.4, True, \"python\", False)\n",
    "index = 0\n",
    "while index<len(tuple1):\n",
    "    print(tuple1[index])\n",
    "    index = index+1"
   ]
  },
  {
   "cell_type": "code",
   "execution_count": 42,
   "metadata": {},
   "outputs": [
    {
     "name": "stdout",
     "output_type": "stream",
     "text": [
      "1\n",
      "2\n",
      "3\n",
      "2.2\n",
      "python\n",
      "False\n"
     ]
    }
   ],
   "source": [
    "#list using while loop\n",
    "list2 = [1, 2, 3, 2.2, 'python', False]\n",
    "index = 0\n",
    "while index<len(list2):\n",
    "    print(list2[index])\n",
    "    index = index+1"
   ]
  },
  {
   "cell_type": "code",
   "execution_count": 14,
   "metadata": {},
   "outputs": [
    {
     "name": "stdout",
     "output_type": "stream",
     "text": [
      "('Model', 'I5')\n",
      "('Brand', 'Samsung')\n",
      "('hhs', 'hjhdj')\n",
      "('dkfd', 'fddf')\n"
     ]
    }
   ],
   "source": [
    "#dict using while loop\n",
    "dict1 = {\n",
    "    \"Model\": \"I5\",\n",
    "    \"Brand\": \"Samsung\",\n",
    "    \"hhs\": \"hjhdj\",\n",
    "    \"dkfd\":\"fddf\"\n",
    "         }\n",
    "len(dict1)\n",
    "item = list(dict1.items())\n",
    "#print(item[0])\n",
    "index=0\n",
    "while(index<len(dict1)):\n",
    "    print(item[index])\n",
    "    index=index+1\n"
   ]
  },
  {
   "cell_type": "code",
   "execution_count": 19,
   "metadata": {},
   "outputs": [
    {
     "name": "stdout",
     "output_type": "stream",
     "text": [
      "False\n",
      "1\n",
      "2\n",
      "3\n",
      "4\n",
      "5\n",
      "string\n"
     ]
    }
   ],
   "source": [
    "#sets using the while loop\n",
    "\n",
    "sets1 = {1,2,3,4,5,'string',False}\n",
    "sets1\n",
    "len(sets1)\n",
    "sample = list(sets1)\n",
    "index=0\n",
    "while(index<len(sets1)):\n",
    "    print(sample[index])\n",
    "    index=index+1"
   ]
  },
  {
   "cell_type": "code",
   "execution_count": null,
   "metadata": {},
   "outputs": [],
   "source": []
  }
 ],
 "metadata": {
  "kernelspec": {
   "display_name": "Python 3",
   "language": "python",
   "name": "python3"
  },
  "language_info": {
   "codemirror_mode": {
    "name": "ipython",
    "version": 3
   },
   "file_extension": ".py",
   "mimetype": "text/x-python",
   "name": "python",
   "nbconvert_exporter": "python",
   "pygments_lexer": "ipython3",
   "version": "3.7.6"
  }
 },
 "nbformat": 4,
 "nbformat_minor": 4
}
