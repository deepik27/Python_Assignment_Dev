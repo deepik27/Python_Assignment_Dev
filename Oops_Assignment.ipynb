{
 "cells": [
  {
   "cell_type": "markdown",
   "metadata": {},
   "source": [
    "#### 1) What is Class ?\n",
    "A class is a code template  for creating objects. Objects have member variables and have behaviour associated with them. In python a class is created by the keyword class . An object is created using the constructor of the class."
   ]
  },
  {
   "cell_type": "markdown",
   "metadata": {},
   "source": [
    "#### 2) What is Instance?\n",
    "\n",
    "Instance is synonymous to object. Objects are instances of types. So, \"23 is an instance of the type int\". Instance and object are usually used interchangeably.\n"
   ]
  },
  {
   "cell_type": "markdown",
   "metadata": {},
   "source": [
    "#### 3) What is Inheritance ?\n",
    "Inheritance is the capability of one class to  inherit the properties from some another class."
   ]
  },
  {
   "cell_type": "markdown",
   "metadata": {},
   "source": [
    "#### 4) what is multiple Inheritance?\n",
    "In multiple inheritance, the features of all the base classes are inherited into the derived class. "
   ]
  },
  {
   "cell_type": "code",
   "execution_count": 5,
   "metadata": {},
   "outputs": [],
   "source": [
    "class A1:\n",
    "    pass\n",
    "class A2:\n",
    "    pass\n",
    "class multiple(A1,A2):\n",
    "     pass"
   ]
  },
  {
   "cell_type": "markdown",
   "metadata": {},
   "source": [
    "#### 5) What is polymorphism?\n",
    "The word polymorphism means having many forms. In programming, polymorphism means same function name (but different signatures) being uses for different types."
   ]
  },
  {
   "cell_type": "markdown",
   "metadata": {},
   "source": [
    "#### 6) what is method overriding and overloading?\n",
    "    1) In Method Overriding, sub class have the same method with same \n",
    "       name and exactly the same number and type of parameters and \n",
    "       same return type as a super class.\n",
    "    2) Method Overloading means more than one method shares the same \n",
    "       name in the class but having different signature."
   ]
  },
  {
   "cell_type": "markdown",
   "metadata": {},
   "source": [
    "###### 7) How do you delete the object?\n",
    "\n",
    "we can use del keyword to delete the object, when we does it gives the nameError and garbage collection is good aspect when we are coding\n"
   ]
  },
  {
   "cell_type": "code",
   "execution_count": 9,
   "metadata": {},
   "outputs": [
    {
     "name": "stdout",
     "output_type": "stream",
     "text": [
      "10\n"
     ]
    },
    {
     "ename": "NameError",
     "evalue": "name 'a' is not defined",
     "output_type": "error",
     "traceback": [
      "\u001b[1;31m---------------------------------------------------------------------------\u001b[0m",
      "\u001b[1;31mNameError\u001b[0m                                 Traceback (most recent call last)",
      "\u001b[1;32m<ipython-input-9-ac5a00a48532>\u001b[0m in \u001b[0;36m<module>\u001b[1;34m\u001b[0m\n\u001b[0;32m      5\u001b[0m \u001b[1;33m\u001b[0m\u001b[0m\n\u001b[0;32m      6\u001b[0m \u001b[0ms\u001b[0m\u001b[1;33m=\u001b[0m\u001b[0ms1\u001b[0m\u001b[1;33m(\u001b[0m\u001b[1;33m)\u001b[0m\u001b[1;33m\u001b[0m\u001b[1;33m\u001b[0m\u001b[0m\n\u001b[1;32m----> 7\u001b[1;33m \u001b[1;32mdel\u001b[0m \u001b[0ma\u001b[0m\u001b[1;33m\u001b[0m\u001b[1;33m\u001b[0m\u001b[0m\n\u001b[0m",
      "\u001b[1;31mNameError\u001b[0m: name 'a' is not defined"
     ]
    }
   ],
   "source": [
    "class s1:\n",
    "    def __init__ (self):\n",
    "        a=10\n",
    "        print(a)\n",
    "        \n",
    "s=s1()\n",
    "del a"
   ]
  },
  {
   "cell_type": "code",
   "execution_count": 3,
   "metadata": {},
   "outputs": [
    {
     "name": "stdout",
     "output_type": "stream",
     "text": [
      "Radius Input value: 8\n",
      "Area_of_Circle Result: 200.96\n",
      "Circumference Result: 50.24\n"
     ]
    }
   ],
   "source": [
    "'''\n",
    "1.Create a Cricle class and intialize it with radius. Make two methods \n",
    "  getArea and getCircumference inside this class.\n",
    "'''\n",
    "\n",
    "class Circle:\n",
    "    def __init__(self,radius):\n",
    "        self.Radius = radius\n",
    "        print(\"Radius Input value:\",self.Radius)\n",
    "        \n",
    "    def getArea(self):\n",
    "        area_of_Circle=self.Radius**2*3.14\n",
    "        print(\"Area_of_Circle Result:\",area_of_Circle)\n",
    "        \n",
    "    def getcircumference(self):\n",
    "        circumference=2*3.14*self.Radius\n",
    "        print(\"Circumference Result:\",circumference)\n",
    "        \n",
    "C1 = Circle(8)\n",
    "C1.getArea()\n",
    "C1.getcircumference()\n",
    "        \n",
    "        "
   ]
  },
  {
   "cell_type": "code",
   "execution_count": 6,
   "metadata": {},
   "outputs": [
    {
     "name": "stdout",
     "output_type": "stream",
     "text": [
      "Converting celesius value to fahrenhit:- 210.2\n",
      "Converting fahren value to celsius:- 37.22222222222222\n"
     ]
    }
   ],
   "source": [
    "'''\n",
    "Create a Temprature class. Make two methods :\n",
    "1.convertFahrenheit - It will take celsius and will print it into Fahrenheit.\n",
    "2. convertCelsius - It will take Fahrenheit and will convert it \n",
    "into Celsius.\n",
    "'''\n",
    "\n",
    "class Temperature:\n",
    "    def __init__(self, Input):\n",
    "        self.input_1=Input\n",
    "        \n",
    "    def convert_CtoF_(self):\n",
    "        fahren = (self.input_1 * 9/5) + 32\n",
    "        print(\"Converting celesius value to fahrenhit:-\",fahren)\n",
    "        \n",
    "        \n",
    "    def convert_FtoC_(self):\n",
    "        cel = (self.input_1 - 32) * 5/9\n",
    "        print(\"Converting fahren value to celsius:-\",cel)\n",
    "\n",
    "T1 = Temperature(99)\n",
    "T1.convert_CtoF_()\n",
    "T1.convert_FtoC_()"
   ]
  },
  {
   "cell_type": "code",
   "execution_count": 8,
   "metadata": {},
   "outputs": [
    {
     "name": "stdout",
     "output_type": "stream",
     "text": [
      "Name of the student: Deepika\n",
      "Student Roll_No: 100\n",
      "Age of the student: 23\n",
      "English Marks of the student: 91\n",
      "Math Marks of the student: 75\n",
      "Science Marks of the student: 46\n",
      "Social Marks of the student: 58\n",
      "Kannada Marks of the student: 85\n",
      "Hindi Marks of the student: 65\n"
     ]
    }
   ],
   "source": [
    "\"\"\"'\n",
    "Create a Student class and initialize it with name and roll number. Make methods to :\n",
    "  1. Display - It should display all informations of the student.\n",
    "  2. setAge - It should assign age to student\n",
    "  3. setMarks - It should assign marks to the student.\n",
    "\n",
    "'\"\"\"\n",
    "\n",
    "class student:\n",
    "    def __init__(self, name, roll_no):\n",
    "        self.Name = name\n",
    "        self.Roll_no = roll_no\n",
    "    def Display(self):\n",
    "        print(\"Name of the student:\",self.Name)\n",
    "        print(\"Student Roll_No:\",self.Roll_no)\n",
    "    def setAge(self,Age):\n",
    "        self.Age_1 = Age\n",
    "        print(\"Age of the student:\",self.Age_1)\n",
    "    def setmarks(self, E_Marks, M_Marks, S_Marks, SS_Marks, K_Marks, H_Marks):\n",
    "        self.EMarks = E_Marks\n",
    "        self.EMarks = M_Marks\n",
    "        self.EMarks = S_Marks\n",
    "        self.EMarks = SS_Marks\n",
    "        self.EMarks = K_Marks\n",
    "        self.EMarks = H_Marks\n",
    "        print(\"English Marks of the student:\",E_Marks)\n",
    "        print(\"Math Marks of the student:\",M_Marks)\n",
    "        print(\"Science Marks of the student:\",S_Marks)\n",
    "        print(\"Social Marks of the student:\",SS_Marks)\n",
    "        print(\"Kannada Marks of the student:\",K_Marks)\n",
    "        print(\"Hindi Marks of the student:\",H_Marks)\n",
    "s1 = student('Deepika','100')\n",
    "s1.Display()\n",
    "s1.setAge(23)\n",
    "s1.setmarks(91,75,46,58,85,65)\n",
    "\n",
    "        \n",
    "        \n",
    "        "
   ]
  },
  {
   "cell_type": "code",
   "execution_count": null,
   "metadata": {},
   "outputs": [],
   "source": [
    "'''\n",
    "4.Create a Time class and initialize it with hours and minutes.\n",
    "1. Make a method addTime which should take two time object and add them. E.g.- (2 hour and 50 min)+(1 hr and 20 min) is (4 hr and 10 min)\n",
    "2. Make a method displayTime which should print the time.\n",
    "3. Make a method DisplayMinute which should display the total minutes in the Time. E.g.- (1 hr 2 min) should display 62 minute.\n",
    "\n",
    "\n",
    "'''"
   ]
  },
  {
   "cell_type": "code",
   "execution_count": 47,
   "metadata": {},
   "outputs": [
    {
     "name": "stdout",
     "output_type": "stream",
     "text": [
      "4 hours and 5 minutes\n",
      "The Total Minutes in the Time is 245 Minutes\n"
     ]
    }
   ],
   "source": [
    "class time:\n",
    "    def __init__(self, hours, minutes):\n",
    "        self.hours = hours\n",
    "        self.minutes = minutes\n",
    "    def addTime(time1, time2):\n",
    "        time3 = time(0, 0)\n",
    "        time3.hours = time1.hours + time2.hours \n",
    "        time3.minutes = time1.minutes + time2.minutes \n",
    "        \n",
    "        if (time3.minutes>=60):\n",
    "            time3.hours = 1+time3.hours\n",
    "            time3.minutes = time3.minutes-60\n",
    "            return time3\n",
    "    def DisplayTime(self):\n",
    "        print(\"{} hours and {} minutes\".format(self.hours,self.minutes))\n",
    "        \n",
    "    def DisplayUnits(self):\n",
    "        units = ((self.hours*60)+self.minutes)\n",
    "        print(\"The Total Minutes in the Time is {} Minutes\".format(units))\n",
    "        \n",
    "            \n",
    "            \n",
    "    \n",
    "a = time(1,45)\n",
    "b = time(2,20)\n",
    "c1 = time.addTime(a,b)\n",
    "c1.DisplayTime()\n",
    "c1.DisplayUnits()"
   ]
  },
  {
   "cell_type": "code",
   "execution_count": null,
   "metadata": {},
   "outputs": [],
   "source": [
    "\"\"\"\n",
    "Create a deck of cards class. Internally, the deck of cards should use another class, a card class. Your requirements are:\n",
    "The Deck class should have a deal method to deal a single card from the deck\n",
    "After a card is dealt, it is removed from the deck.\n",
    "There should be a shuffle method which makes sure the deck of cards has all 52 cards and then rearranges them randomly.\n",
    "The Card class should have a suit (Hearts, Diamonds, Clubs, Spades) and a value (A,2,3,4,5,6,7,8,9,10,J,Q,K)\n",
    "\n",
    "\"\"\"\n",
    "\n",
    "\n"
   ]
  }
 ],
 "metadata": {
  "kernelspec": {
   "display_name": "Python 3",
   "language": "python",
   "name": "python3"
  },
  "language_info": {
   "codemirror_mode": {
    "name": "ipython",
    "version": 3
   },
   "file_extension": ".py",
   "mimetype": "text/x-python",
   "name": "python",
   "nbconvert_exporter": "python",
   "pygments_lexer": "ipython3",
   "version": "3.7.6"
  }
 },
 "nbformat": 4,
 "nbformat_minor": 4
}
