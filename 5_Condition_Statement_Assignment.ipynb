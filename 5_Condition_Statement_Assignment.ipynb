{
 "cells": [
  {
   "cell_type": "code",
   "execution_count": null,
   "metadata": {},
   "outputs": [],
   "source": [
    "\"\"\"\n",
    "Ask 2 numbers from users and store it in num1 and num2\n",
    "Ask user to press 1 for addition,2 for subtraction,3 for multiplication and 4 for division\n",
    "based on number given by user do the math operation\n",
    "\n",
    "\"\"\""
   ]
  },
  {
   "cell_type": "code",
   "execution_count": 19,
   "metadata": {},
   "outputs": [
    {
     "name": "stdout",
     "output_type": "stream",
     "text": [
      "Enter the first no value:10\n",
      "Enter the Second no value:5\n",
      "Enter no for operation for Add=1, Sub=2, mul=3, div=4\n",
      "Enter the number for Operation:4\n",
      "math operation\n",
      "Result of Division:2\n"
     ]
    }
   ],
   "source": [
    "num1 = input(\"Enter the first no value:\")\n",
    "num2 = input(\"Enter the Second no value:\")\n",
    "num1 = int(num1)\n",
    "num2 = int(num2)\n",
    "print(\"Enter no for operation for Add=1, Sub=2, mul=3, div=4\")\n",
    "num3 = input(\"Enter the number for Operation:\")\n",
    "num3 = int(num3)\n",
    "if(num3>0):\n",
    "    print(\"math operation\")\n",
    "    if(num3==1):\n",
    "        print(\"Result of Addition:{}\".format(num1+num2))\n",
    "    elif(num3==2):\n",
    "        print(\"Result of Subtraction:{}\".format(num1-num2))\n",
    "    elif(num3==3):\n",
    "        print(\"Result of Multiplication:{}\".format(num1*num2))\n",
    "    elif(num3==4):\n",
    "        print(\"Result of Division:{}\".format(num1//num2))\n",
    "    else: \n",
    "        print(\"this four operation are not possible\")\n",
    "else:\n",
    "    print(\"Num3 value is less than the given value\")\n",
    "    \n"
   ]
  },
  {
   "cell_type": "code",
   "execution_count": null,
   "metadata": {},
   "outputs": [],
   "source": []
  },
  {
   "cell_type": "code",
   "execution_count": null,
   "metadata": {},
   "outputs": [],
   "source": []
  },
  {
   "cell_type": "code",
   "execution_count": null,
   "metadata": {},
   "outputs": [],
   "source": []
  }
 ],
 "metadata": {
  "kernelspec": {
   "display_name": "Python 3",
   "language": "python",
   "name": "python3"
  },
  "language_info": {
   "codemirror_mode": {
    "name": "ipython",
    "version": 3
   },
   "file_extension": ".py",
   "mimetype": "text/x-python",
   "name": "python",
   "nbconvert_exporter": "python",
   "pygments_lexer": "ipython3",
   "version": "3.7.6"
  }
 },
 "nbformat": 4,
 "nbformat_minor": 4
}
