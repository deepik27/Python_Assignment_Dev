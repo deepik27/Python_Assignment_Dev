{
 "cells": [
  {
   "cell_type": "markdown",
   "metadata": {},
   "source": [
    "###### 1) Program to count total number of negative elements in array\n",
    "           Input: [5,-8,1,-9,-6]\n",
    "           Output: count of negative elements: 3"
   ]
  },
  {
   "cell_type": "code",
   "execution_count": 3,
   "metadata": {},
   "outputs": [
    {
     "name": "stdout",
     "output_type": "stream",
     "text": [
      "Positive number: 5\n",
      "Negative number: -8\n",
      "Positive number: 1\n",
      "Negative number: -9\n",
      "Negative number: -6\n",
      "Count of Negative elements in the list1: 3\n"
     ]
    }
   ],
   "source": [
    "list1 = [5,-8,1,-9,-6]\n",
    "len(list1)\n",
    "count=0\n",
    "for i in range (0,5):\n",
    "    if((list1[i]>0)):\n",
    "        print(\"Positive number:\",list1[i])\n",
    "    else:\n",
    "        print(\"Negative number:\",list1[i])\n",
    "        count=count+1\n",
    "\n",
    "print(\"Count of Negative elements in the list1:\",count)  "
   ]
  },
  {
   "cell_type": "markdown",
   "metadata": {},
   "source": [
    "###### 2) Program to find sum of all elements of an array\n",
    "     Input: [5,8,1,9,6]\n",
    "     Output: sum= 29"
   ]
  },
  {
   "cell_type": "code",
   "execution_count": 8,
   "metadata": {},
   "outputs": [
    {
     "name": "stdout",
     "output_type": "stream",
     "text": [
      "sum of elements in the list2: 29\n"
     ]
    }
   ],
   "source": [
    "list2 = [5,8,1,9,6]\n",
    "result=0\n",
    "for i in range(0,5):\n",
    "    result = list2[i]+result\n",
    "print(\"sum of elements in the list2:\",result)\n",
    "    "
   ]
  },
  {
   "cell_type": "markdown",
   "metadata": {},
   "source": [
    "###### 3) Find largest and smallest number in array?\n",
    "\n",
    "     Input: [5,-2,9,-3,-10,8,15,0,9]\n",
    "     Output: Max:15 Min:-10"
   ]
  },
  {
   "cell_type": "code",
   "execution_count": 12,
   "metadata": {},
   "outputs": [
    {
     "name": "stdout",
     "output_type": "stream",
     "text": [
      "Max: 15\n",
      "Min: -10\n"
     ]
    }
   ],
   "source": [
    "list3 = [5,-2,9,-3,-10,8,15,0,9]\n",
    "maximum=minimum=list3[0]\n",
    "for i in range(0,9):\n",
    "    if(maximum<list3[i]):\n",
    "        maximum = list3[i]\n",
    "    elif(minimum>list3[i]):\n",
    "        minimum = list3[i]\n",
    "print(\"Max:\",maximum)\n",
    "print(\"Min:\",minimum)"
   ]
  },
  {
   "cell_type": "markdown",
   "metadata": {},
   "source": [
    "###### 4) Program to print sum of all even numbers between 1 to n.\n",
    "\n",
    "      Input: n = 10\n",
    "      Output: 30 \n",
    "      Explaination: 2+4+6+8+10"
   ]
  },
  {
   "cell_type": "code",
   "execution_count": 35,
   "metadata": {},
   "outputs": [
    {
     "name": "stdout",
     "output_type": "stream",
     "text": [
      "Result: 30\n"
     ]
    }
   ],
   "source": [
    "num1 = 10\n",
    "res=0\n",
    "for i in range(num1+1):\n",
    "    if(i%2==0):\n",
    "        res=i+res\n",
    "print(\"Result:\",res)\n",
    "        "
   ]
  },
  {
   "cell_type": "markdown",
   "metadata": {},
   "source": [
    "###### 5) Program to print odd of all even numbers between 1 to n.\n",
    "      Input: n = 10\n",
    "      Output: 25 \n",
    "      Explaination: 1+3+5+7+9"
   ]
  },
  {
   "cell_type": "code",
   "execution_count": 38,
   "metadata": {},
   "outputs": [
    {
     "name": "stdout",
     "output_type": "stream",
     "text": [
      "Result 25\n"
     ]
    }
   ],
   "source": [
    "num2 = 10\n",
    "res1=0\n",
    "for i in range (num2+1):\n",
    "    if(i%2==1):\n",
    "        res1=i+res1\n",
    "print(\"Result\",res1)"
   ]
  },
  {
   "cell_type": "markdown",
   "metadata": {},
   "source": [
    "###### 6) Program to enter any number and calculate sum of its digits.\n",
    "    Input: 528 \n",
    "    Ouput: 5+2+8 = 15\n"
   ]
  },
  {
   "cell_type": "code",
   "execution_count": 45,
   "metadata": {},
   "outputs": [
    {
     "name": "stdout",
     "output_type": "stream",
     "text": [
      "Enter the input556\n",
      "16\n"
     ]
    }
   ],
   "source": [
    "input_0 = input(\"Enter the number for addition:\")\n",
    "list_0 = input_0\n",
    "len1 = len(list_0)\n",
    "res0 = 0\n",
    "for i in range (0,len1):\n",
    "    res2 = list_0[i]\n",
    "    res3 = int(res2)\n",
    "    res0 = res3+res0\n",
    "print(res0)"
   ]
  },
  {
   "cell_type": "markdown",
   "metadata": {},
   "source": [
    "###### 7) Program to enter any number and calculate multiplication of its digits.\n",
    "      Input: 528 \n",
    "      Ouput: 5*2*8 = 80"
   ]
  },
  {
   "cell_type": "code",
   "execution_count": null,
   "metadata": {},
   "outputs": [],
   "source": [
    "input_1 = input(\"Enter the number for multiplication:\")\n",
    "liist_1 = input_1\n",
    "len2 = len(liist_1)\n",
    "ress_1 = 1\n",
    "for i in range (0,len2):\n",
    "    ress_2 = liist_1[i]\n",
    "    ress_3 = int(ress_2)\n",
    "    ress_1 = ress_1*ress_3\n",
    "print(\"Output of multiplication is: \"ress_1)\n",
    "\n"
   ]
  },
  {
   "cell_type": "markdown",
   "metadata": {},
   "source": [
    "###### 8) Input a number and print the reverse of the num\n",
    "\n",
    "     Input: 1367\n",
    "     Output: 7631"
   ]
  },
  {
   "cell_type": "code",
   "execution_count": 49,
   "metadata": {},
   "outputs": [
    {
     "name": "stdout",
     "output_type": "stream",
     "text": [
      "Enter input to reverse the no:456\n",
      "654\n"
     ]
    }
   ],
   "source": [
    "num_R = int(input(\"Enter input to reverse the no:\"))\n",
    "rev= 0\n",
    "while(num_R>0):\n",
    "    mod = num_R%10\n",
    "    rev = rev*10+mod\n",
    "    num_R=num_R//10\n",
    "print(rev)\n",
    "\n"
   ]
  },
  {
   "cell_type": "markdown",
   "metadata": {},
   "source": [
    "###### 9) Program to Calculate the Sum of first N Natural Numbers\n",
    "      Input: N=10\n",
    "      Output: Add numbers from 1 to 10 ---> 55 "
   ]
  },
  {
   "cell_type": "code",
   "execution_count": 22,
   "metadata": {},
   "outputs": [
    {
     "name": "stdout",
     "output_type": "stream",
     "text": [
      "First 10 Natural numbers: 55\n"
     ]
    }
   ],
   "source": [
    "natur_no = 10\n",
    "res_N = 0\n",
    "for i in range (0,11):\n",
    "    res_N = i+res_N\n",
    "print(\"First 10 Natural numbers:\",res_N)"
   ]
  },
  {
   "cell_type": "markdown",
   "metadata": {},
   "source": [
    "###### 10) Program to Find Factorial of a Number N\n",
    "\n",
    "       Input: N = 5\n",
    "       Output: Factorial = 1 x 2 x 3 x 4 x 5 = 1"
   ]
  },
  {
   "cell_type": "code",
   "execution_count": 65,
   "metadata": {},
   "outputs": [
    {
     "name": "stdout",
     "output_type": "stream",
     "text": [
      "The factorial of the number: 120\n"
     ]
    }
   ],
   "source": [
    "Num = 5\n",
    "fact=1\n",
    "while(Num>0):\n",
    "    fact=fact*Num\n",
    "    Num = Num-1\n",
    "print(\"The factorial of the number:\",fact)"
   ]
  },
  {
   "cell_type": "markdown",
   "metadata": {},
   "source": [
    "###### 11) Program to Display first n Fibonacci numbers \n",
    "    Input: N = 8\n",
    "    Output: 0,1,1,2,3,5,8,13"
   ]
  },
  {
   "cell_type": "code",
   "execution_count": 44,
   "metadata": {},
   "outputs": [
    {
     "name": "stdout",
     "output_type": "stream",
     "text": [
      "Enter the number to calculate fibo:8\n",
      "011235813"
     ]
    }
   ],
   "source": [
    "Num_F = int(input(\"Enter the number to calculate fibo:\"))\n",
    "first=0\n",
    "second=1\n",
    "for i in range (Num_F):\n",
    "    print(first,end='')\n",
    "    third=first+second\n",
    "    first=second\n",
    "    second=third\n",
    "    \n",
    "\n"
   ]
  },
  {
   "cell_type": "markdown",
   "metadata": {},
   "source": [
    "###### 12) In an array 1 to 10 numbers are stored, one number is missing how do you find it?\n",
    "     Input: [1,2,3,4,?,6,7,8,9,10]\n",
    "     Output: 5"
   ]
  },
  {
   "cell_type": "code",
   "execution_count": null,
   "metadata": {},
   "outputs": [],
   "source": []
  },
  {
   "cell_type": "markdown",
   "metadata": {},
   "source": [
    "###### 13) Program to Check if a number is a Armstrong Number \n",
    "      (A number is a amstrong number if sum of cube of individual nos is equal to original no)\n",
    "      Input: 153\n",
    "      Output: Yes \n",
    "      Explaination: (1*1*1 + 5*5*5 + 3*3*3 = 153)"
   ]
  },
  {
   "cell_type": "code",
   "execution_count": 75,
   "metadata": {},
   "outputs": [
    {
     "name": "stdout",
     "output_type": "stream",
     "text": [
      "Enter the armstrong number:153\n",
      "153\n",
      "153\n",
      "True\n"
     ]
    }
   ],
   "source": [
    "num = int(input(\"Enter the armstrong number:\"))\n",
    "print(num)\n",
    "#int i have converted into string to find length\n",
    "string = str(num)\n",
    "#Again from string to list i have converted\n",
    "List = list(string)\n",
    "Length=len(List)\n",
    "#result i have initalized to 0\n",
    "result = 0\n",
    "#for loop it will iterate from o to length of the list\n",
    "for i in range (0,Length):\n",
    "    \n",
    "    List1=List[i] #list \n",
    "    num1=int(List1)\n",
    "    res = pow(num1,Length)\n",
    "    result=result+res\n",
    "print(result)\n",
    "if(num==result):\n",
    "    print(\"True\")\n",
    "    \n",
    "else:\n",
    "    print(\"False\")\n",
    "    "
   ]
  },
  {
   "cell_type": "markdown",
   "metadata": {},
   "source": [
    "###### 14) Program to Check Whether a Character is Vowel or Consonant\n",
    "     Input: A\n",
    "     Output: vowel\n",
    "     Input: C\n",
    "     Output: Consonant"
   ]
  },
  {
   "cell_type": "code",
   "execution_count": 42,
   "metadata": {},
   "outputs": [
    {
     "name": "stdout",
     "output_type": "stream",
     "text": [
      "Enter the char to check the vowel or not:h\n",
      "a :Consonant\n",
      "e :Consonant\n",
      "i :Consonant\n",
      "o :Consonant\n",
      "u :Consonant\n"
     ]
    }
   ],
   "source": [
    "input_V = input(\"Enter the char to check the vowel or not:\")\n",
    "list_V = ['a','e','i','o','u']\n",
    "len_V=len(list_V)\n",
    "for i in range(0,len_V):\n",
    "    ls=list_V[i]\n",
    "    if(input_V==ls):\n",
    "        print(ls,':vowel')\n",
    "    else:\n",
    "        print(ls,':Consonant')\n",
    "        \n",
    "        "
   ]
  },
  {
   "cell_type": "markdown",
   "metadata": {},
   "source": [
    "###### 15) Program to check whether a character is uppercase or lowercase alphabet.\n",
    "\n",
    "       Input: 'a'\n",
    "       Output: lowercase"
   ]
  },
  {
   "cell_type": "code",
   "execution_count": 1,
   "metadata": {},
   "outputs": [
    {
     "name": "stdout",
     "output_type": "stream",
     "text": [
      "enter the char: 9\n",
      "Character is not uppercase nor lowercase\n"
     ]
    }
   ],
   "source": [
    "char = input(\"enter the char: \")\n",
    "if (char>='a'and char<='z'):\n",
    "    print(\"Lowercase\")\n",
    "elif(char>='A'and char<='Z'):\n",
    "    print(\"Uppercase\")\n",
    "else:\n",
    "    print(\"Character is not uppercase nor lowercase\")\n",
    "    "
   ]
  },
  {
   "cell_type": "markdown",
   "metadata": {},
   "source": [
    "###### 16) Reverse words of a string\n",
    "\n",
    "      Input: \"Python Means Programming\"\n",
    "      Output: \"Programming Means Python\"  \n"
   ]
  },
  {
   "cell_type": "code",
   "execution_count": 39,
   "metadata": {},
   "outputs": [
    {
     "name": "stdout",
     "output_type": "stream",
     "text": [
      "Python\n",
      "Means\n",
      "Programming\n"
     ]
    }
   ],
   "source": [
    "rev_i = \"Python Means Programming\"\n",
    "words = rev_i.split(' ')\n",
    "length = len(words)\n",
    "for i in range (0,3):\n",
    "    print(words[i])"
   ]
  },
  {
   "cell_type": "markdown",
   "metadata": {},
   "source": [
    "###### 17) Check if two strings are anagrams or not?\n",
    "\n",
    "         Input: \"aaba\" & \"aaab\"\n",
    "         Output: Yes\n",
    "\n",
    "         Input: \"abcd\" & \"deba\"\n",
    "         Output: No"
   ]
  },
  {
   "cell_type": "code",
   "execution_count": 51,
   "metadata": {},
   "outputs": [
    {
     "name": "stdout",
     "output_type": "stream",
     "text": [
      "Enter the input_1 word to check the anagrams:moni\n",
      "Enter the input_2 word to check the anagrams:moni\n",
      "The string is anagram\n"
     ]
    }
   ],
   "source": [
    "input_1 = input(\"Enter the input_1 word to check the anagrams: \")\n",
    "#list_a = list(input_1)\n",
    "input_2 = input(\"Enter the input_2 word to check the anagrams: \")\n",
    "#list_b = list(input_2)\n",
    "if(input_1==input_2):\n",
    "    print(\"The string is anagram\")\n",
    "else:\n",
    "    print(\"The string is not anagram\")"
   ]
  },
  {
   "cell_type": "markdown",
   "metadata": {},
   "source": [
    "###### 18) check if a string is palindrome\n",
    "             \n",
    "    Input: hello-> olleh\n",
    "    Output:  Not a palindrome\n",
    "\n",
    "    Input: madam-> madam\n",
    "    Output:  palindrome\n",
    "\n",
    "Explaination: Yes, if reversed string is same as original string\n",
    "Note: Try to use your own logic to find palindrome"
   ]
  },
  {
   "cell_type": "code",
   "execution_count": 3,
   "metadata": {},
   "outputs": [
    {
     "name": "stdout",
     "output_type": "stream",
     "text": [
      "olleH\n",
      "It is not a palindrome\n"
     ]
    }
   ],
   "source": [
    "Ouput_P = \"\"\n",
    "\n",
    "Input_A = \"Hello\"\n",
    "for i in Input_A:\n",
    "    Ouput_P = i+Ouput_P\n",
    "print(Ouput_P)\n",
    "if (Input_A==Ouput_P):\n",
    "    print(\"It is palindrome\")\n",
    "else:\n",
    "    print(\"It is not a palindrome\")\n",
    "    "
   ]
  },
  {
   "cell_type": "markdown",
   "metadata": {},
   "source": [
    "###### 19) Input a string and find out duplicates alphabets\n",
    "\n",
    "\n",
    "      Input: python at zenrays\n",
    "      Output:  a,n\n",
    "      Explaination: a & n both are repeating in the string"
   ]
  },
  {
   "cell_type": "code",
   "execution_count": 11,
   "metadata": {},
   "outputs": [
    {
     "name": "stdout",
     "output_type": "stream",
     "text": [
      "['y', 't', 'n', ' ', 'a']\n"
     ]
    }
   ],
   "source": [
    "Input_D = \"python at zenrays\"\n",
    "output_D = []\n",
    "for char in Input_D:\n",
    "    if Input_D.count(char) > 1:\n",
    "        if char not in output_D:\n",
    "                output_D.append(char)\n",
    "print(output_D)\n",
    "\n",
    "\n",
    "\n"
   ]
  },
  {
   "cell_type": "markdown",
   "metadata": {},
   "source": [
    "###### 20) Count occurrences of a specific character in a String\n"
   ]
  },
  {
   "cell_type": "code",
   "execution_count": 14,
   "metadata": {},
   "outputs": [
    {
     "name": "stdout",
     "output_type": "stream",
     "text": [
      "4\n"
     ]
    }
   ],
   "source": [
    "string_c = \"Hi this is deepika\"\n",
    "count = 0\n",
    "for i in string_c:\n",
    "    if i == 'i':\n",
    "        count = count+1\n",
    "print(count)"
   ]
  },
  {
   "cell_type": "markdown",
   "metadata": {},
   "source": [
    "###### 21) Count occurrence of specific word in a String \n"
   ]
  },
  {
   "cell_type": "code",
   "execution_count": 29,
   "metadata": {},
   "outputs": [
    {
     "name": "stdout",
     "output_type": "stream",
     "text": [
      "2\n"
     ]
    }
   ],
   "source": [
    "string_w = \"Hi everyone this is python world once again welcome everyone\"\n",
    "words=str.split(string_w)\n",
    "count = 0\n",
    "for i in words:\n",
    "    if i==\"everyone\":\n",
    "        count=count+1\n",
    "print(count)"
   ]
  },
  {
   "cell_type": "markdown",
   "metadata": {},
   "source": [
    "###### 22) Find out no of alphabets, lowercase, uppercase, vowels, consonants,digits, spaces in a string"
   ]
  },
  {
   "cell_type": "code",
   "execution_count": null,
   "metadata": {},
   "outputs": [],
   "source": []
  },
  {
   "cell_type": "markdown",
   "metadata": {},
   "source": [
    "###### 23) Check if a string is a double string\n",
    "Example\n",
    "         Input: \"1221\"\n",
    "         Output: No\n",
    "\n",
    "         Input: \"abab\"\n",
    "         Output: Yes\n",
    "\n",
    "          Input: \"aaaaa\"\n",
    "          Output: No\n",
    "\n",
    "           Input: \"bbaabb\"\n",
    "            Output: No\n",
    "\n",
    "Explaination: \n",
    "We call a string a \"double string\" if it has an even length and \n",
    "the first half of this string is equal to the second half of this string\n"
   ]
  },
  {
   "cell_type": "code",
   "execution_count": 69,
   "metadata": {},
   "outputs": [
    {
     "name": "stdout",
     "output_type": "stream",
     "text": [
      "The is not even to find the double string: 123asds\n"
     ]
    }
   ],
   "source": [
    "Input_A = \"123asds\"\n",
    "list_A = list(Input_A)\n",
    "len_A = len(list_A)\n",
    "res_0 = \"\"\n",
    "res_1 = \"\"\n",
    "if(len_A%2==0):\n",
    "    for i in range (0,len_A//2):\n",
    "        res_0=list_A[i]\n",
    "        print(res_0)\n",
    "    for j in range (len_A//2,len_A):\n",
    "        res_1=list_A[j]\n",
    "        print(res_1)\n",
    "    if(res_0==res_1):\n",
    "            print(\"This is double string:\",Input_A)\n",
    "    else:\n",
    "            print(\"This is not double string:\",Input_A)\n",
    "else:\n",
    "    print(\"The is not even to find the double string:\",Input_A)\n",
    "    \n",
    "\n",
    "        "
   ]
  },
  {
   "cell_type": "markdown",
   "metadata": {},
   "source": [
    "###### 24) check if a given number is prime or not? \n",
    "\n"
   ]
  },
  {
   "cell_type": "code",
   "execution_count": 17,
   "metadata": {},
   "outputs": [
    {
     "name": "stdout",
     "output_type": "stream",
     "text": [
      "Enter the prime no:105\n",
      "The no is prime:  105\n"
     ]
    }
   ],
   "source": []
  },
  {
   "cell_type": "markdown",
   "metadata": {},
   "source": [
    "###### 25) Find the position of an number in a unsorted array."
   ]
  },
  {
   "cell_type": "code",
   "execution_count": 39,
   "metadata": {},
   "outputs": [
    {
     "name": "stdout",
     "output_type": "stream",
     "text": [
      "Position of the array in unsorted list: 6\n",
      "Value of the position: 10\n"
     ]
    }
   ],
   "source": [
    "List_U = [5,6,7,1,3,4,10,8]\n",
    "list_L=len(List_U)\n",
    "#i want to find this position value \n",
    "num = 10\n",
    "for i in range (0,list_L):\n",
    "    if(List_U[i]==num):\n",
    "        index = List_U[i]\n",
    "        print(\"Position of the array in unsorted list:\",i)\n",
    "        print(\"Value of the position:\",index)\n",
    "        break"
   ]
  },
  {
   "cell_type": "markdown",
   "metadata": {},
   "source": [
    "###### 26) Find the position of an number in a sorted array."
   ]
  },
  {
   "cell_type": "code",
   "execution_count": 38,
   "metadata": {},
   "outputs": [
    {
     "name": "stdout",
     "output_type": "stream",
     "text": [
      "Position of the array in unsorrted list: 9\n",
      "Value of the position: 10\n"
     ]
    }
   ],
   "source": [
    "List_S = [1,2,3,4,5,6,7,8,9,10,11,12,13,14,15]\n",
    "list_L=len(List_S)\n",
    "#i want to find this position value \n",
    "num_S = 10\n",
    "for i in range (0,list_L):\n",
    "    if(List_S[i]==num_S):\n",
    "        index = List_S[i]\n",
    "        print(\"Position of the array in sorted list:\",i)\n",
    "        print(\"Value of the position of sorted list:\",index)\n",
    "        break"
   ]
  },
  {
   "cell_type": "code",
   "execution_count": null,
   "metadata": {},
   "outputs": [],
   "source": []
  }
 ],
 "metadata": {
  "kernelspec": {
   "display_name": "Python 3",
   "language": "python",
   "name": "python3"
  },
  "language_info": {
   "codemirror_mode": {
    "name": "ipython",
    "version": 3
   },
   "file_extension": ".py",
   "mimetype": "text/x-python",
   "name": "python",
   "nbconvert_exporter": "python",
   "pygments_lexer": "ipython3",
   "version": "3.7.6"
  }
 },
 "nbformat": 4,
 "nbformat_minor": 4
}
